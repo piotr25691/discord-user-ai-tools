{
  "nbformat": 4,
  "nbformat_minor": 0,
  "metadata": {
    "colab": {
      "name": "generate_model.ipynb",
      "provenance": [],
      "collapsed_sections": []
    },
    "kernelspec": {
      "name": "python3",
      "display_name": "Python 3"
    },
    "language_info": {
      "name": "python"
    },
    "accelerator": "GPU"
  },
  "cells": [
    {
      "cell_type": "code",
      "metadata": {
        "id": "FW9sk9Z4x7yo"
      },
      "source": [
        "!pip install gpt-2-simple"
      ],
      "execution_count": null,
      "outputs": []
    },
    {
      "cell_type": "code",
      "metadata": {
        "id": "cVhH3zQSycV5"
      },
      "source": [
        "import gpt_2_simple as gpt2\n",
        "import os\n",
        "\n",
        "if not os.path.isdir(\"models\"):\n",
        "    gpt2.download_gpt2(model_name=\"124M\")\n",
        "\n",
        "sess = gpt2.start_tf_sess()\n",
        "gpt2.encode_dataset(\"gpt_dataset.txt\")\n",
        "gpt2.finetune(sess,\n",
        "              dataset=\"text_encoded.npz\",\n",
        "              model_name='124M',\n",
        "              print_every=10,\n",
        "              sample_every=50,\n",
        "              save_every=500,\n",
        ")"
      ],
      "execution_count": null,
      "outputs": []
    },
    {
      "cell_type": "code",
      "metadata": {
        "id": "PtFT-9uizKIN"
      },
      "source": [
        "gpt2.mount_gdrive()\n",
        "gpt2.copy_checkpoint_to_gdrive(run_name='run1')"
      ],
      "execution_count": null,
      "outputs": []
    }
  ]
}
