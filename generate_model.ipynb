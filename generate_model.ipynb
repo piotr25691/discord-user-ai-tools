{
  "nbformat": 4,
  "nbformat_minor": 0,
  "metadata": {
    "colab": {
      "name": "Untitled0.ipynb",
      "provenance": [],
      "collapsed_sections": []
    },
    "kernelspec": {
      "name": "python3",
      "display_name": "Python 3"
    },
    "language_info": {
      "name": "python"
    },
    "accelerator": "GPU"
  },
  "cells": [
    {
      "cell_type": "code",
      "metadata": {
        "colab": {
          "base_uri": "https://localhost:8080/"
        },
        "id": "FW9sk9Z4x7yo",
        "outputId": "b56e5341-a1e8-4850-a30b-90d3aeb05a41"
      },
      "source": [
        "!pip install gpt-2-simple"
      ],
      "execution_count": null,
      "outputs": [
        {
          "output_type": "stream",
          "name": "stdout",
          "text": [
            "Requirement already satisfied: gpt-2-simple in /usr/local/lib/python3.7/dist-packages (0.8.1)\n",
            "Requirement already satisfied: numpy in /usr/local/lib/python3.7/dist-packages (from gpt-2-simple) (1.19.5)\n",
            "Requirement already satisfied: requests in /usr/local/lib/python3.7/dist-packages (from gpt-2-simple) (2.23.0)\n",
            "Requirement already satisfied: toposort in /usr/local/lib/python3.7/dist-packages (from gpt-2-simple) (1.7)\n",
            "Requirement already satisfied: tensorflow>=2.5.1 in /usr/local/lib/python3.7/dist-packages (from gpt-2-simple) (2.6.0)\n",
            "Requirement already satisfied: regex in /usr/local/lib/python3.7/dist-packages (from gpt-2-simple) (2019.12.20)\n",
            "Requirement already satisfied: tqdm in /usr/local/lib/python3.7/dist-packages (from gpt-2-simple) (4.62.3)\n",
            "Requirement already satisfied: tensorboard~=2.6 in /usr/local/lib/python3.7/dist-packages (from tensorflow>=2.5.1->gpt-2-simple) (2.6.0)\n",
            "Requirement already satisfied: termcolor~=1.1.0 in /usr/local/lib/python3.7/dist-packages (from tensorflow>=2.5.1->gpt-2-simple) (1.1.0)\n",
            "Requirement already satisfied: gast==0.4.0 in /usr/local/lib/python3.7/dist-packages (from tensorflow>=2.5.1->gpt-2-simple) (0.4.0)\n",
            "Requirement already satisfied: typing-extensions~=3.7.4 in /usr/local/lib/python3.7/dist-packages (from tensorflow>=2.5.1->gpt-2-simple) (3.7.4.3)\n",
            "Requirement already satisfied: clang~=5.0 in /usr/local/lib/python3.7/dist-packages (from tensorflow>=2.5.1->gpt-2-simple) (5.0)\n",
            "Requirement already satisfied: absl-py~=0.10 in /usr/local/lib/python3.7/dist-packages (from tensorflow>=2.5.1->gpt-2-simple) (0.12.0)\n",
            "Requirement already satisfied: h5py~=3.1.0 in /usr/local/lib/python3.7/dist-packages (from tensorflow>=2.5.1->gpt-2-simple) (3.1.0)\n",
            "Requirement already satisfied: google-pasta~=0.2 in /usr/local/lib/python3.7/dist-packages (from tensorflow>=2.5.1->gpt-2-simple) (0.2.0)\n",
            "Requirement already satisfied: wheel~=0.35 in /usr/local/lib/python3.7/dist-packages (from tensorflow>=2.5.1->gpt-2-simple) (0.37.0)\n",
            "Requirement already satisfied: protobuf>=3.9.2 in /usr/local/lib/python3.7/dist-packages (from tensorflow>=2.5.1->gpt-2-simple) (3.17.3)\n",
            "Requirement already satisfied: flatbuffers~=1.12.0 in /usr/local/lib/python3.7/dist-packages (from tensorflow>=2.5.1->gpt-2-simple) (1.12)\n",
            "Requirement already satisfied: tensorflow-estimator~=2.6 in /usr/local/lib/python3.7/dist-packages (from tensorflow>=2.5.1->gpt-2-simple) (2.6.0)\n",
            "Requirement already satisfied: six~=1.15.0 in /usr/local/lib/python3.7/dist-packages (from tensorflow>=2.5.1->gpt-2-simple) (1.15.0)\n",
            "Requirement already satisfied: wrapt~=1.12.1 in /usr/local/lib/python3.7/dist-packages (from tensorflow>=2.5.1->gpt-2-simple) (1.12.1)\n",
            "Requirement already satisfied: grpcio<2.0,>=1.37.0 in /usr/local/lib/python3.7/dist-packages (from tensorflow>=2.5.1->gpt-2-simple) (1.41.0)\n",
            "Requirement already satisfied: keras-preprocessing~=1.1.2 in /usr/local/lib/python3.7/dist-packages (from tensorflow>=2.5.1->gpt-2-simple) (1.1.2)\n",
            "Requirement already satisfied: keras~=2.6 in /usr/local/lib/python3.7/dist-packages (from tensorflow>=2.5.1->gpt-2-simple) (2.6.0)\n",
            "Requirement already satisfied: astunparse~=1.6.3 in /usr/local/lib/python3.7/dist-packages (from tensorflow>=2.5.1->gpt-2-simple) (1.6.3)\n",
            "Requirement already satisfied: opt-einsum~=3.3.0 in /usr/local/lib/python3.7/dist-packages (from tensorflow>=2.5.1->gpt-2-simple) (3.3.0)\n",
            "Requirement already satisfied: cached-property in /usr/local/lib/python3.7/dist-packages (from h5py~=3.1.0->tensorflow>=2.5.1->gpt-2-simple) (1.5.2)\n",
            "Requirement already satisfied: tensorboard-data-server<0.7.0,>=0.6.0 in /usr/local/lib/python3.7/dist-packages (from tensorboard~=2.6->tensorflow>=2.5.1->gpt-2-simple) (0.6.1)\n",
            "Requirement already satisfied: google-auth-oauthlib<0.5,>=0.4.1 in /usr/local/lib/python3.7/dist-packages (from tensorboard~=2.6->tensorflow>=2.5.1->gpt-2-simple) (0.4.6)\n",
            "Requirement already satisfied: setuptools>=41.0.0 in /usr/local/lib/python3.7/dist-packages (from tensorboard~=2.6->tensorflow>=2.5.1->gpt-2-simple) (57.4.0)\n",
            "Requirement already satisfied: markdown>=2.6.8 in /usr/local/lib/python3.7/dist-packages (from tensorboard~=2.6->tensorflow>=2.5.1->gpt-2-simple) (3.3.4)\n",
            "Requirement already satisfied: google-auth<2,>=1.6.3 in /usr/local/lib/python3.7/dist-packages (from tensorboard~=2.6->tensorflow>=2.5.1->gpt-2-simple) (1.35.0)\n",
            "Requirement already satisfied: tensorboard-plugin-wit>=1.6.0 in /usr/local/lib/python3.7/dist-packages (from tensorboard~=2.6->tensorflow>=2.5.1->gpt-2-simple) (1.8.0)\n",
            "Requirement already satisfied: werkzeug>=0.11.15 in /usr/local/lib/python3.7/dist-packages (from tensorboard~=2.6->tensorflow>=2.5.1->gpt-2-simple) (1.0.1)\n",
            "Requirement already satisfied: pyasn1-modules>=0.2.1 in /usr/local/lib/python3.7/dist-packages (from google-auth<2,>=1.6.3->tensorboard~=2.6->tensorflow>=2.5.1->gpt-2-simple) (0.2.8)\n",
            "Requirement already satisfied: rsa<5,>=3.1.4 in /usr/local/lib/python3.7/dist-packages (from google-auth<2,>=1.6.3->tensorboard~=2.6->tensorflow>=2.5.1->gpt-2-simple) (4.7.2)\n",
            "Requirement already satisfied: cachetools<5.0,>=2.0.0 in /usr/local/lib/python3.7/dist-packages (from google-auth<2,>=1.6.3->tensorboard~=2.6->tensorflow>=2.5.1->gpt-2-simple) (4.2.4)\n",
            "Requirement already satisfied: requests-oauthlib>=0.7.0 in /usr/local/lib/python3.7/dist-packages (from google-auth-oauthlib<0.5,>=0.4.1->tensorboard~=2.6->tensorflow>=2.5.1->gpt-2-simple) (1.3.0)\n",
            "Requirement already satisfied: importlib-metadata in /usr/local/lib/python3.7/dist-packages (from markdown>=2.6.8->tensorboard~=2.6->tensorflow>=2.5.1->gpt-2-simple) (4.8.1)\n",
            "Requirement already satisfied: pyasn1<0.5.0,>=0.4.6 in /usr/local/lib/python3.7/dist-packages (from pyasn1-modules>=0.2.1->google-auth<2,>=1.6.3->tensorboard~=2.6->tensorflow>=2.5.1->gpt-2-simple) (0.4.8)\n",
            "Requirement already satisfied: chardet<4,>=3.0.2 in /usr/local/lib/python3.7/dist-packages (from requests->gpt-2-simple) (3.0.4)\n",
            "Requirement already satisfied: idna<3,>=2.5 in /usr/local/lib/python3.7/dist-packages (from requests->gpt-2-simple) (2.10)\n",
            "Requirement already satisfied: certifi>=2017.4.17 in /usr/local/lib/python3.7/dist-packages (from requests->gpt-2-simple) (2021.5.30)\n",
            "Requirement already satisfied: urllib3!=1.25.0,!=1.25.1,<1.26,>=1.21.1 in /usr/local/lib/python3.7/dist-packages (from requests->gpt-2-simple) (1.24.3)\n",
            "Requirement already satisfied: oauthlib>=3.0.0 in /usr/local/lib/python3.7/dist-packages (from requests-oauthlib>=0.7.0->google-auth-oauthlib<0.5,>=0.4.1->tensorboard~=2.6->tensorflow>=2.5.1->gpt-2-simple) (3.1.1)\n",
            "Requirement already satisfied: zipp>=0.5 in /usr/local/lib/python3.7/dist-packages (from importlib-metadata->markdown>=2.6.8->tensorboard~=2.6->tensorflow>=2.5.1->gpt-2-simple) (3.6.0)\n"
          ]
        }
      ]
    },
    {
      "cell_type": "code",
      "metadata": {
        "colab": {
          "base_uri": "https://localhost:8080/"
        },
        "id": "cVhH3zQSycV5",
        "outputId": "c950b328-3cec-4c0d-e0d9-e327cdb8fa4f"
      },
      "source": [
        "import gpt_2_simple as gpt2\n",
        "import os\n",
        "\n",
        "if not os.path.isdir(\"models\"):\n",
        "    gpt2.download_gpt2(model_name=\"124M\")\n",
        "\n",
        "sess = gpt2.start_tf_sess()\n",
        "gpt2.finetune(sess,\n",
        "              dataset=\"gpt_dataset.txt\",\n",
        "              model_name='124M',\n",
        "              print_every=10,\n",
        "              sample_every=100,\n",
        "              save_every=500,\n",
        ")"
      ],
      "execution_count": null,
      "outputs": [
        {
          "output_type": "stream",
          "name": "stdout",
          "text": [
            "Loading checkpoint models/124M/model.ckpt\n",
            "INFO:tensorflow:Restoring parameters from models/124M/model.ckpt\n",
            "Loading dataset...\n"
          ]
        },
        {
          "output_type": "stream",
          "name": "stderr",
          "text": [
            "100%|██████████| 1/1 [00:05<00:00,  5.10s/it]\n"
          ]
        },
        {
          "output_type": "stream",
          "name": "stdout",
          "text": [
            "dataset has 1193158 tokens\n",
            "Training...\n",
            "[10 | 48.01] loss=1.24 avg=1.24\n",
            "[20 | 90.26] loss=0.99 avg=1.11\n",
            "[30 | 132.52] loss=1.24 avg=1.15\n",
            "[40 | 174.71] loss=0.96 avg=1.11\n",
            "[50 | 216.92] loss=0.99 avg=1.08\n",
            "[60 | 259.16] loss=1.02 avg=1.07\n",
            "[70 | 301.37] loss=1.04 avg=1.07\n",
            "[80 | 343.61] loss=1.05 avg=1.06\n",
            "[90 | 385.85] loss=0.75 avg=1.03\n",
            "[100 | 428.07] loss=0.97 avg=1.02\n",
            "======== SAMPLE 1 ========\n",
            " <textarea><a:xd:xd:xd:xd:xd:xd:xd:xd:xd:xd:xd:d] <|endoftext|>\n",
            "<|startoftext|> aeon is for idiots <|endoftext|>\n",
            "<|startoftext|> aeon is for shit <|endoftext|>\n",
            "<|startoftext|> <@!478823932913516544> i got the ad <|endoftext|>\n",
            "<|startoftext|> <@!478823932913516544> i think i broke the record <|endoftext|>\n",
            "<|startoftext|> <@!478823932913516544> thats aeon for idiots <|endoftext|>\n",
            "<|startoftext|> <@!478823932913516544> do you have the old ones <|endoftext|>\n",
            "<|startoftext|> i should stop posting this shit in the <|endoftext|>\n",
            "<|startoftext|> you dont have the old ones <|endoftext|>\n",
            "<|startoftext|> ad!help <|endoftext|>\n",
            "<|startoftext|> ad!dev reload help <|endoftext|>\n",
            "<|startoftext|> h <|endoftext|>\n",
            "<|startoftext|> ad!cat h <|endoftext|>\n",
            "<|startoftext|> ad!help <|endoftext|>\n",
            "<|startoftext|> ad!dev reload help <|endoftext|>\n",
            "<|startoftext|> ad!help <|endoftext|>\n",
            "<|startoftext|> ad!dev reload category <|endoftext|>\n",
            "<|startoftext|> ad!help <|endoftext|>\n",
            "<|startoftext|> ad!dev reload category <|endoftext|>\n",
            "<|startoftext|> ad!help <|endoftext|>\n",
            "<|startoftext|> ad!dev reload help <|endoftext|>\n",
            "<|startoftext|> aeon has been banned in /dps <|endoftext|>\n",
            "<|startoftext|> aeon is for people who like spam <|endoftext|>\n",
            "<|startoftext|> <@!478823932913516544> i have to delete it <|endoftext|>\n",
            "<|startoftext|> <@!724578823471024> i dont exist <|endoftext|>\n",
            "<|startoftext|> <@!724578823471024> i dont exist <|endoftext|>\n",
            "<|startoftext|> ad!help <|endoftext|>\n",
            "<|startoftext|> n!help n!wiki <|endoftext|>\n",
            "<|startoftext|> n!dev reload category <|endoftext|>\n",
            "<|startoftext|> a!help <|endoftext|>\n",
            "<|startoftext|> oh <|endoftext|>\n",
            "<|startoftext|> yeah <|endoftext|>\n",
            "<|startoftext|> ad!help <|endoftext|>\n",
            "<|startoftext|> <a:xd:xd:xd:xd:xd:xd:xd:xd:xd:xd:endoftext|>\n",
            "<|startoftext|> the first post i made in aeon <|endoftext|>\n",
            "<|startoftext|> oh wait why did you not do <|endoftext|>\n",
            "<|startoftext|> n!help n!wiki <|endoftext|>\n",
            "<|startoftext|> ad!help <|endoftext|>\n",
            "<|startoftext|> ad!help <|endoftext|>\n",
            "<|startoftext|> <@!67 <|endoftext|>\n",
            "<|startoftext|> sadie <|endoftext|>\n",
            "<|startoftext|> ad!help <|endoftext|>\n",
            "<|startoftext|> ad!dev reload category <|endoftext|>\n",
            "<|startoftext|> h <|endoftext|>\n",
            "<|startoftext|> ad!help <|endoftext|>\n",
            "<|startoftext|> a!help <|endoftext|>\n",
            "<|startoftext|> sadie <|endoftext|>\n",
            "<|startoftext|> ad!help <\n",
            "\n",
            "[110 | 490.98] loss=0.81 avg=1.00\n",
            "[120 | 533.19] loss=0.96 avg=1.00\n",
            "[130 | 575.39] loss=0.85 avg=0.98\n",
            "[140 | 617.62] loss=1.01 avg=0.99\n",
            "[150 | 659.86] loss=0.94 avg=0.98\n",
            "[160 | 702.09] loss=1.17 avg=1.00\n",
            "[170 | 744.26] loss=0.73 avg=0.98\n",
            "[180 | 786.47] loss=0.94 avg=0.98\n",
            "[190 | 828.67] loss=0.90 avg=0.97\n",
            "[200 | 870.89] loss=0.63 avg=0.95\n",
            "interrupted\n",
            "Saving checkpoint/run1/model-200\n"
          ]
        }
      ]
    },
    {
      "cell_type": "code",
      "metadata": {
        "colab": {
          "base_uri": "https://localhost:8080/"
        },
        "id": "PtFT-9uizKIN",
        "outputId": "fffe3cd3-0f33-421d-d4f5-594e2f00e809"
      },
      "source": [
        "gpt2.mount_gdrive()\n",
        "gpt2.copy_checkpoint_to_gdrive(run_name='run1')"
      ],
      "execution_count": null,
      "outputs": [
        {
          "output_type": "stream",
          "name": "stdout",
          "text": [
            "Mounted at /content/drive\n"
          ]
        }
      ]
    }
  ]
}